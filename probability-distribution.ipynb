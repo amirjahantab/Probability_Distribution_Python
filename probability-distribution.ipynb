{
 "cells": [
  {
   "cell_type": "markdown",
   "metadata": {},
   "source": [
    "### Discrete Uniform Distribution\n",
    "The discrete uniform distribution is a distribution that assigns equal probability to all integers between two specified values $a$ and $b$. \n",
    "\n",
    "#### Formula\n",
    "$ P(X=x) = \\frac{1}{b-a+1} $\n"
   ]
  },
  {
   "cell_type": "code",
   "execution_count": 1,
   "metadata": {},
   "outputs": [
    {
     "data": {
      "image/png": "[encoded data removed]",
      "text/plain": [
       "<Figure size 432x288 with 1 Axes>"
      ]
     },
     "metadata": {
      "needs_background": "light"
     },
     "output_type": "display_data"
    }
   ],
   "source": [
    "import numpy as np\n",
    "import matplotlib.pyplot as plt\n",
    "\n",
    "# Discrete Uniform Distribution\n",
    "a, b = 1, 10\n",
    "samples = np.random.randint(a, b+1, size=10000)\n",
    "plt.hist(samples, bins=np.arange(a, b+2)-0.5, density=True, edgecolor='black')\n",
    "plt.title('Discrete Uniform Distribution')\n",
    "plt.xlabel('Value')\n",
    "plt.ylabel('Probability')\n",
    "plt.show()\n"
   ]
  },
  {
   "cell_type": "markdown",
   "metadata": {},
   "source": [
    "### Bernoulli Distribution\n",
    "The Bernoulli distribution is a discrete distribution with only two possible outcomes, usually coded as 0 and 1. It is parameterized by $p$, the probability of success (1).\n",
    "\n",
    "#### Formula\n",
    "\\[ P(X=x) = \n",
    "  \\begin{cases} \n",
    "   p & \\text{if } x = 1 \\\\\n",
    "   1-p & \\text{if } x = 0 \n",
    "  \\end{cases}\n",
    "\\]|"
   ]
  },
  {
   "cell_type": "code",
   "execution_count": 2,
   "metadata": {},
   "outputs": [
    {
     "data": {
      "image/png": "[encoded data removed]",
      "text/plain": [
       "<Figure size 432x288 with 1 Axes>"
      ]
     },
     "metadata": {
      "needs_background": "light"
     },
     "output_type": "display_data"
    }
   ],
   "source": [
    "# Bernoulli Distribution\n",
    "p = 0.3\n",
    "samples = np.random.binomial(1, p, size=10000)\n",
    "plt.hist(samples, bins=np.arange(3)-0.5, density=True, edgecolor='black')\n",
    "plt.title('Bernoulli Distribution')\n",
    "plt.xlabel('Value')\n",
    "plt.ylabel('Probability')\n",
    "plt.xticks([0, 1])\n",
    "plt.show()\n"
   ]
  },
  {
   "cell_type": "markdown",
   "metadata": {},
   "source": [
    "### Binomial Distribution\n",
    "The binomial distribution represents the number of successes in a fixed number of independent Bernoulli trials.\n",
    "\n",
    "#### Formula\n",
    "$ P(X=k) = \\binom{n}{k} p^k (1-p)^{n-k} $\n"
   ]
  },
  {
   "cell_type": "code",
   "execution_count": null,
   "metadata": {},
   "outputs": [],
   "source": [
    "# Binomial Distribution\n",
    "n, p = 10, 0.5\n",
    "samples = np.random.binomial(n, p, size=10000)\n",
    "plt.hist(samples, bins=np.arange(n+2)-0.5, density=True, edgecolor='black')\n",
    "plt.title('Binomial Distribution')\n",
    "plt.xlabel('Number of Successes')\n",
    "plt.ylabel('Probability')\n",
    "plt.show()\n"
   ]
  },
  {
   "cell_type": "markdown",
   "metadata": {},
   "source": [
    "### Poisson Distribution\n",
    "The Poisson distribution models the number of events occurring within a fixed interval of time or space.\n",
    "\n",
    "#### Formula\n",
    "$ P(X=k) = \\frac{\\lambda^k e^{-\\lambda}}{k!} $\n"
   ]
  },
  {
   "cell_type": "code",
   "execution_count": null,
   "metadata": {},
   "outputs": [],
   "source": [
    "# Poisson Distribution\n",
    "lam = 3\n",
    "samples = np.random.poisson(lam, size=10000)\n",
    "plt.hist(samples, bins=np.arange(np.max(samples)+2)-0.5, density=True, edgecolor='black')\n",
    "plt.title('Poisson Distribution')\n",
    "plt.xlabel('Number of Events')\n",
    "plt.ylabel('Probability')\n",
    "plt.show()\n"
   ]
  },
  {
   "cell_type": "markdown",
   "metadata": {},
   "source": [
    "### Geometric Distribution\n",
    "The geometric distribution models the number of trials until the first success in a sequence of independent Bernoulli trials.\n",
    "\n",
    "#### Formula\n",
    "$ P(X=k) = (1-p)^{k-1} p $\n"
   ]
  },
  {
   "cell_type": "code",
   "execution_count": null,
   "metadata": {},
   "outputs": [],
   "source": [
    "# Geometric Distribution\n",
    "p = 0.3\n",
    "samples = np.random.geometric(p, size=10000)\n",
    "plt.hist(samples, bins=np.arange(np.max(samples)+2)-0.5, density=True, edgecolor='black')\n",
    "plt.title('Geometric Distribution')\n",
    "plt.xlabel('Number of Trials')\n",
    "plt.ylabel('Probability')\n",
    "plt.show()\n"
   ]
  },
  {
   "cell_type": "markdown",
   "metadata": {},
   "source": [
    "### Continuous Uniform Distribution\n",
    "The continuous uniform distribution assigns equal probability to all points in the interval $[a, b]$.\n",
    "\n",
    "#### Formula\n",
    "$ f(x) = \\frac{1}{b-a} $\n"
   ]
  },
  {
   "cell_type": "code",
   "execution_count": null,
   "metadata": {},
   "outputs": [],
   "source": [
    "# Continuous Uniform Distribution\n",
    "a, b = 0, 1\n",
    "samples = np.random.uniform(a, b, size=10000)\n",
    "plt.hist(samples, bins=50, density=True, edgecolor='black')\n",
    "plt.title('Continuous Uniform Distribution')\n",
    "plt.xlabel('Value')\n",
    "plt.ylabel('Probability')\n",
    "plt.show()\n"
   ]
  },
  {
   "cell_type": "markdown",
   "metadata": {},
   "source": [
    "### Normal Distribution\n",
    "The normal distribution is a continuous distribution characterized by its mean $\\mu$ and standard deviation $\\sigma$.\n",
    "\n",
    "#### Formula\n",
    "$ f(x) = \\frac{1}{\\sigma \\sqrt{2\\pi}} e^{-\\frac{(x-\\mu)^2}{2\\sigma^2}} $\n"
   ]
  },
  {
   "cell_type": "code",
   "execution_count": null,
   "metadata": {},
   "outputs": [],
   "source": [
    "# Normal Distribution\n",
    "mu, sigma = 0, 1\n",
    "samples = np.random.normal(mu, sigma, size=10000)\n",
    "plt.hist(samples, bins=50, density=True, edgecolor='black')\n",
    "plt.title('Normal Distribution')\n",
    "plt.xlabel('Value')\n",
    "plt.ylabel('Probability')\n",
    "plt.show()\n"
   ]
  },
  {
   "cell_type": "markdown",
   "metadata": {},
   "source": [
    "### Exponential Distribution\n",
    "The exponential distribution models the time between events in a Poisson process.\n",
    "\n",
    "#### Formula\n",
    "$ f(x; \\lambda) = \\lambda e^{-\\lambda x} $\n"
   ]
  },
  {
   "cell_type": "code",
   "execution_count": null,
   "metadata": {},
   "outputs": [],
   "source": [
    "# Exponential Distribution\n",
    "lam = 1\n",
    "samples = np.random.exponential(1/lam, size=10000)\n",
    "plt.hist(samples, bins=50, density=True, edgecolor='black')\n",
    "plt.title('Exponential Distribution')\n",
    "plt.xlabel('Value')\n",
    "plt.ylabel('Probability')\n",
    "plt.show()\n"
   ]
  },
  {
   "cell_type": "markdown",
   "metadata": {},
   "source": [
    "### Chi-Square (K2) Distribution\n",
    "The chi-square distribution is a special case of the gamma distribution, often used in hypothesis testing.\n",
    "\n",
    "#### Formula\n",
    "$ f(x; k) = \\frac{1}{2^{k/2} \\Gamma(k/2)} x^{(k/2)-1} e^{-x/2} $\n"
   ]
  },
  {
   "cell_type": "code",
   "execution_count": null,
   "metadata": {},
   "outputs": [],
   "source": [
    "# Chi-Square Distribution\n",
    "k = 2\n",
    "samples = np.random.chisquare(k, size=10000)\n",
    "plt.hist(samples, bins=50, density=True, edgecolor='black')\n",
    "plt.title('Chi-Square Distribution')\n",
    "plt.xlabel('Value')\n",
    "plt.ylabel('Probability')\n",
    "plt.show()\n"
   ]
  },
  {
   "cell_type": "markdown",
   "metadata": {},
   "source": [
    "### Gamma Distribution\n",
    "The gamma distribution generalizes the exponential distribution with shape parameter $k$ and scale parameter $\\theta$.\n",
    "\n",
    "#### Formula\n",
    "$ f(x; k, \\theta) = \\frac{x^{k-1} e^{-x/\\theta}}{\\theta^k \\Gamma(k)} $\n"
   ]
  },
  {
   "cell_type": "code",
   "execution_count": null,
   "metadata": {},
   "outputs": [],
   "source": [
    "# Gamma Distribution\n",
    "k, theta = 2, 2\n",
    "samples = np.random.gamma(k, theta, size=10000)\n",
    "plt.hist(samples, bins=50, density=True, edgecolor='black')\n",
    "plt.title('Gamma Distribution')\n",
    "plt.xlabel('Value')\n",
    "plt.ylabel('Probability')\n",
    "plt.show()\n"
   ]
  }
 ],
 "metadata": {
  "kernelspec": {
   "display_name": "Python 3 (ipykernel)",
   "language": "python",
   "name": "python3"
  },
  "language_info": {
   "codemirror_mode": {
    "name": "ipython",
    "version": 3
   },
   "file_extension": ".py",
   "mimetype": "text/x-python",
   "name": "python",
   "nbconvert_exporter": "python",
   "pygments_lexer": "ipython3",
   "version": "3.10.12"
  }
 },
 "nbformat": 4,
 "nbformat_minor": 4
}
